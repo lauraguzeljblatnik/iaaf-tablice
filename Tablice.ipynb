{
 "cells": [
  {
   "cell_type": "markdown",
   "metadata": {},
   "source": [
    "## IAAF tablice\n",
    "\n",
    "_Projekt pri predmetu Programiranje 1_\n",
    "\n",
    "S spletne strani https://www.iaaf.org/records/all-time-toplists/middlelong/5000-metres/outdoor/women/senior sem zajela podatke o najboljših rezultatih žensk na 5000m med letoma 2001 in 2017. Te rezultate bom tekom naloge analizirala."
   ]
  },
  {
   "cell_type": "code",
   "execution_count": 1,
   "metadata": {
    "collapsed": true
   },
   "outputs": [],
   "source": [
    "import pandas as pd\n",
    "import matplotlib.pyplot as plt\n",
    "import matplotlib.dates as dates \n",
    "import matplotlib\n",
    "import numpy as np\n",
    "import math\n",
    "import datetime \n",
    "import time\n",
    "\n",
    "%matplotlib inline\n",
    "\n",
    "tablice= pd.read_csv('lists.csv', encoding = \"utf-8\")\n",
    "\n",
    "#datume in čase spremenimo v pravo obliko, da lahko kasneje dostopamo do njih\n",
    "#kjer daum rojstva ni popoln ga spremenimo v None\n",
    "# (tako ali tako nimajo vsi razulati datuma rojstva, tako da to ne bo vplivalo na točnost analize)\n",
    "tablice['DOB'] = pd.to_datetime(tablice['DOB'], format=\"%d %b %Y\",  errors='coerce')\n",
    "tablice['date'] = pd.to_datetime(tablice['date'], format=\"%d %b %Y\")\n",
    "\n",
    "pd.options.display.max_rows = 20"
   ]
  },
  {
   "cell_type": "markdown",
   "metadata": {},
   "source": [
    "Za lažjo predstavo najprej poglejmo, kako sploh izgledajo tablice."
   ]
  },
  {
   "cell_type": "code",
   "execution_count": 2,
   "metadata": {},
   "outputs": [
    {
     "data": {
      "text/html": [
       "<div>\n",
       "<style>\n",
       "    .dataframe thead tr:only-child th {\n",
       "        text-align: right;\n",
       "    }\n",
       "\n",
       "    .dataframe thead th {\n",
       "        text-align: left;\n",
       "    }\n",
       "\n",
       "    .dataframe tbody tr th {\n",
       "        vertical-align: top;\n",
       "    }\n",
       "</style>\n",
       "<table border=\"1\" class=\"dataframe\">\n",
       "  <thead>\n",
       "    <tr style=\"text-align: right;\">\n",
       "      <th></th>\n",
       "      <th>rank</th>\n",
       "      <th>time</th>\n",
       "      <th>date</th>\n",
       "      <th>name</th>\n",
       "      <th>position</th>\n",
       "      <th>DOB</th>\n",
       "      <th>venue</th>\n",
       "      <th>nationality</th>\n",
       "    </tr>\n",
       "  </thead>\n",
       "  <tbody>\n",
       "    <tr>\n",
       "      <th>3059</th>\n",
       "      <td>1</td>\n",
       "      <td>14:11.15</td>\n",
       "      <td>2008-06-06</td>\n",
       "      <td>Tirunesh DIBABA</td>\n",
       "      <td>1</td>\n",
       "      <td>1985-06-01</td>\n",
       "      <td>Oslo (NOR)</td>\n",
       "      <td>ETH</td>\n",
       "    </tr>\n",
       "    <tr>\n",
       "      <th>15471</th>\n",
       "      <td>1</td>\n",
       "      <td>14:12.59</td>\n",
       "      <td>2016-06-02</td>\n",
       "      <td>Almaz AYANA</td>\n",
       "      <td>1</td>\n",
       "      <td>1991-11-21</td>\n",
       "      <td>Roma (ITA)</td>\n",
       "      <td>ETH</td>\n",
       "    </tr>\n",
       "    <tr>\n",
       "      <th>3060</th>\n",
       "      <td>2</td>\n",
       "      <td>14:12.88</td>\n",
       "      <td>2008-07-22</td>\n",
       "      <td>Meseret DEFAR</td>\n",
       "      <td>1</td>\n",
       "      <td>1983-11-19</td>\n",
       "      <td>Stockholm (SWE)</td>\n",
       "      <td>ETH</td>\n",
       "    </tr>\n",
       "    <tr>\n",
       "      <th>13496</th>\n",
       "      <td>1</td>\n",
       "      <td>14:14.32</td>\n",
       "      <td>2015-05-17</td>\n",
       "      <td>Almaz AYANA</td>\n",
       "      <td>1</td>\n",
       "      <td>1991-11-21</td>\n",
       "      <td>Shanghai (CHN)</td>\n",
       "      <td>ETH</td>\n",
       "    </tr>\n",
       "    <tr>\n",
       "      <th>13497</th>\n",
       "      <td>2</td>\n",
       "      <td>14:15.41</td>\n",
       "      <td>2015-07-04</td>\n",
       "      <td>Genzebe DIBABA</td>\n",
       "      <td>1</td>\n",
       "      <td>1991-02-08</td>\n",
       "      <td>Paris (FRA)</td>\n",
       "      <td>ETH</td>\n",
       "    </tr>\n",
       "    <tr>\n",
       "      <th>2571</th>\n",
       "      <td>1</td>\n",
       "      <td>14:16.63</td>\n",
       "      <td>2007-06-15</td>\n",
       "      <td>Meseret DEFAR</td>\n",
       "      <td>1</td>\n",
       "      <td>1983-11-19</td>\n",
       "      <td>Oslo (NOR)</td>\n",
       "      <td>ETH</td>\n",
       "    </tr>\n",
       "    <tr>\n",
       "      <th>17458</th>\n",
       "      <td>1</td>\n",
       "      <td>14:18.37</td>\n",
       "      <td>2017-06-08</td>\n",
       "      <td>Hellen OBIRI</td>\n",
       "      <td>1</td>\n",
       "      <td>1989-12-13</td>\n",
       "      <td>Roma (ITA)</td>\n",
       "      <td>KEN</td>\n",
       "    </tr>\n",
       "    <tr>\n",
       "      <th>6192</th>\n",
       "      <td>1</td>\n",
       "      <td>14:20.87</td>\n",
       "      <td>2011-07-29</td>\n",
       "      <td>Vivian Jepkemoi CHERUIYOT</td>\n",
       "      <td>1</td>\n",
       "      <td>1983-09-11</td>\n",
       "      <td>Stockholm (SWE)</td>\n",
       "      <td>KEN</td>\n",
       "    </tr>\n",
       "    <tr>\n",
       "      <th>2572</th>\n",
       "      <td>2</td>\n",
       "      <td>14:22.51</td>\n",
       "      <td>2007-06-15</td>\n",
       "      <td>Vivian Jepkemoi CHERUIYOT</td>\n",
       "      <td>2</td>\n",
       "      <td>1983-09-11</td>\n",
       "      <td>Oslo (NOR)</td>\n",
       "      <td>KEN</td>\n",
       "    </tr>\n",
       "    <tr>\n",
       "      <th>9725</th>\n",
       "      <td>1</td>\n",
       "      <td>14:23.68</td>\n",
       "      <td>2013-07-06</td>\n",
       "      <td>Tirunesh DIBABA</td>\n",
       "      <td>1</td>\n",
       "      <td>1985-06-01</td>\n",
       "      <td>Paris (FRA)</td>\n",
       "      <td>ETH</td>\n",
       "    </tr>\n",
       "  </tbody>\n",
       "</table>\n",
       "</div>"
      ],
      "text/plain": [
       "       rank      time       date                       name position  \\\n",
       "3059      1  14:11.15 2008-06-06            Tirunesh DIBABA        1   \n",
       "15471     1  14:12.59 2016-06-02                Almaz AYANA        1   \n",
       "3060      2  14:12.88 2008-07-22              Meseret DEFAR        1   \n",
       "13496     1  14:14.32 2015-05-17                Almaz AYANA        1   \n",
       "13497     2  14:15.41 2015-07-04             Genzebe DIBABA        1   \n",
       "2571      1  14:16.63 2007-06-15              Meseret DEFAR        1   \n",
       "17458     1  14:18.37 2017-06-08               Hellen OBIRI        1   \n",
       "6192      1  14:20.87 2011-07-29  Vivian Jepkemoi CHERUIYOT        1   \n",
       "2572      2  14:22.51 2007-06-15  Vivian Jepkemoi CHERUIYOT        2   \n",
       "9725      1  14:23.68 2013-07-06            Tirunesh DIBABA        1   \n",
       "\n",
       "             DOB            venue nationality  \n",
       "3059  1985-06-01       Oslo (NOR)         ETH  \n",
       "15471 1991-11-21       Roma (ITA)         ETH  \n",
       "3060  1983-11-19  Stockholm (SWE)         ETH  \n",
       "13496 1991-11-21   Shanghai (CHN)         ETH  \n",
       "13497 1991-02-08      Paris (FRA)         ETH  \n",
       "2571  1983-11-19       Oslo (NOR)         ETH  \n",
       "17458 1989-12-13       Roma (ITA)         KEN  \n",
       "6192  1983-09-11  Stockholm (SWE)         KEN  \n",
       "2572  1983-09-11       Oslo (NOR)         KEN  \n",
       "9725  1985-06-01      Paris (FRA)         ETH  "
      ]
     },
     "execution_count": 2,
     "metadata": {},
     "output_type": "execute_result"
    }
   ],
   "source": [
    "tablice.sort_values('time').head(10)"
   ]
  },
  {
   "cell_type": "markdown",
   "metadata": {},
   "source": [
    "\n",
    "Najhitrejši čas je trenutno veljaven svetovni rekord."
   ]
  },
  {
   "cell_type": "code",
   "execution_count": 3,
   "metadata": {},
   "outputs": [
    {
     "data": {
      "text/plain": [
       "16:09.00    10\n",
       "15:56.00     9\n",
       "17:18.63     8\n",
       "16:03.80     8\n",
       "16:19.58     8\n",
       "17:24.34     8\n",
       "17:18.07     8\n",
       "17:19.08     8\n",
       "16:59.45     7\n",
       "16:47.62     7\n",
       "Name: time, dtype: int64"
      ]
     },
     "execution_count": 3,
     "metadata": {},
     "output_type": "execute_result"
    }
   ],
   "source": [
    "casi = tablice['time'].value_counts()\n",
    "casi[:10]"
   ]
  },
  {
   "cell_type": "markdown",
   "metadata": {},
   "source": [
    "Malo za šalo, malo zares, med vsemi časi se je največkrat zgodilo, da se je ura ustavila na natanko 16:09. "
   ]
  },
  {
   "cell_type": "code",
   "execution_count": 4,
   "metadata": {},
   "outputs": [
    {
     "data": {
      "image/png": "[encoded data removed]",
      "text/plain": [
       "<matplotlib.figure.Figure at 0xa9449e8>"
      ]
     },
     "metadata": {},
     "output_type": "display_data"
    }
   ],
   "source": [
    "deseterica = tablice[tablice['rank'] <= 10]\n",
    "stoterica = tablice[tablice['rank'] <= 100]\n",
    "\n",
    "plt.figure()\n",
    "stoterica['venue'].value_counts()[:10].plot(kind='bar', title = \"top 100\")\n",
    "\n",
    "plt.show()"
   ]
  },
  {
   "cell_type": "markdown",
   "metadata": {},
   "source": [
    "Najboljše uvrstitve atletinje dosegajo na stadionu Palo Alto v USA, veliko dobrih rezultatov, je bilo doseženih tudi v Rimu in Oslu. Torej, če se želite na lesticah uvrstiti med stoterico najboljših na 5000m je zmagovalni recept tek na enem od zgornjih stadionov. "
   ]
  },
  {
   "cell_type": "code",
   "execution_count": 5,
   "metadata": {},
   "outputs": [
    {
     "data": {
      "image/png": "[encoded data removed]",
      "text/plain": [
       "<matplotlib.figure.Figure at 0xa968780>"
      ]
     },
     "metadata": {},
     "output_type": "display_data"
    },
    {
     "data": {
      "image/png": "[encoded data removed]",
      "text/plain": [
       "<matplotlib.figure.Figure at 0x5c8cb70>"
      ]
     },
     "metadata": {},
     "output_type": "display_data"
    }
   ],
   "source": [
    "plt.figure()\n",
    "deseterica['nationality'].value_counts()[:10].plot(kind='bar', title = \"top 10\" )\n",
    "plt.figure()\n",
    "stoterica['nationality'].value_counts()[:10].plot(kind='bar', title = \"top 100\" )\n",
    "\n",
    "plt.show()"
   ]
  },
  {
   "cell_type": "markdown",
   "metadata": {},
   "source": [
    "Zanimivo je, da so se med deseterico najboljših največkrat uvrstile etiopijske tekačice, medtem ko so se v stoterici največkrat znašle Kenijke. Komu bi torej lahko pripisali zmago v etiopijsko-kenijski tekaški vojni?\n"
   ]
  },
  {
   "cell_type": "code",
   "execution_count": 6,
   "metadata": {},
   "outputs": [
    {
     "data": {
      "text/plain": [
       "'0:16:28.222802'"
      ]
     },
     "execution_count": 6,
     "metadata": {},
     "output_type": "execute_result"
    }
   ],
   "source": [
    "#trik, da čase pretvorimo v sekunde \n",
    "df = pd.DataFrame({'cas' : pd.to_datetime(tablice['time'], format=\"%M:%S.%f\"), 'razlika': datetime.datetime(1900,1,1,0,0,0)})\n",
    "\n",
    "df['sekunde'] = df['cas'] - df['razlika']\n",
    "df['sekunde'] = df['sekunde'].dt.total_seconds().astype(float)\n",
    "\n",
    "#trik, da sekunde pretvorimo v čase\n",
    "\n",
    "j = df['sekunde'].mean()\n",
    "str(datetime.timedelta(seconds=j))"
   ]
  },
  {
   "cell_type": "markdown",
   "metadata": {},
   "source": [
    "Vidimo torej, da povprečen čas na 5000m znaša 16:28.223s."
   ]
  },
  {
   "cell_type": "code",
   "execution_count": 7,
   "metadata": {},
   "outputs": [
    {
     "data": {
      "text/plain": [
       "rank\n",
       "1     00:14:24.201176\n",
       "2     00:14:27.855294\n",
       "3     00:14:31.775882\n",
       "4     00:14:34.707059\n",
       "5     00:14:36.271667\n",
       "6     00:14:38.770625\n",
       "7     00:14:39.791765\n",
       "8     00:14:41.945294\n",
       "9     00:14:43.830588\n",
       "10    00:14:45.031176\n",
       "Name: sekunde, dtype: object"
      ]
     },
     "execution_count": 7,
     "metadata": {},
     "output_type": "execute_result"
    }
   ],
   "source": [
    "tablice['sekunde'] = df['sekunde']\n",
    "povprecje = tablice.groupby('rank')['sekunde'].mean()\n",
    "\n",
    "povprecje['pov'] = pd.to_datetime(povprecje, unit='s').dt.time\n",
    "povprecje['pov'].head(10)"
   ]
  },
  {
   "cell_type": "markdown",
   "metadata": {},
   "source": [
    "Zanimivo je videti, kako se povprečni čas spreminja z uvrstitvjijo."
   ]
  },
  {
   "cell_type": "code",
   "execution_count": 8,
   "metadata": {},
   "outputs": [
    {
     "data": {
      "image/png": "[encoded data removed]",
      "text/plain": [
       "<matplotlib.figure.Figure at 0xa3925c0>"
      ]
     },
     "metadata": {},
     "output_type": "display_data"
    }
   ],
   "source": [
    "#poglejmo si razvoj rezultata aktualne svetovn prvakinje\n",
    "rekorderka = tablice[tablice['name'] =='Tirunesh DIBABA']\n",
    "j = rekorderka['date']\n",
    "x = j.dt.year\n",
    "y = rekorderka['sekunde']\n",
    "\n",
    "plt.plot(x,y)\n",
    "plt.title('spreminjanje časa skozi leta')\n",
    "plt.xlabel('leto')\n",
    "plt.ylabel('čas[s]')\n",
    "plt.show()"
   ]
  },
  {
   "cell_type": "code",
   "execution_count": 12,
   "metadata": {},
   "outputs": [
    {
     "data": {
      "text/plain": [
       "[<matplotlib.lines.Line2D at 0xb9a10b8>]"
      ]
     },
     "execution_count": 12,
     "metadata": {},
     "output_type": "execute_result"
    },
    {
     "data": {
      "image/png": "[encoded data removed]",
      "text/plain": [
       "<matplotlib.figure.Figure at 0xa588da0>"
      ]
     },
     "metadata": {},
     "output_type": "display_data"
    }
   ],
   "source": [
    "#poglejmo si razvoj rezultata aktualne svetovn prvakinje\n",
    "rekorderka = tablice[tablice['name'] =='Tirunesh DIBABA']\n",
    "j = rekorderka['date']\n",
    "x = j.dt.year\n",
    "y = rekorderka['time']\n",
    "time_format = '%M:%S.%f'\n",
    "time = [datetime.datetime.strptime(i, time_format) for i in y]\n",
    "plt.plot_date(x, time)"
   ]
  },
  {
   "cell_type": "code",
   "execution_count": null,
   "metadata": {
    "collapsed": true
   },
   "outputs": [],
   "source": []
  }
 ],
 "metadata": {
  "kernelspec": {
   "display_name": "Python 3",
   "language": "python",
   "name": "python3"
  },
  "language_info": {
   "codemirror_mode": {
    "name": "ipython",
    "version": 3
   },
   "file_extension": ".py",
   "mimetype": "text/x-python",
   "name": "python",
   "nbconvert_exporter": "python",
   "pygments_lexer": "ipython3",
   "version": "3.6.3"
  }
 },
 "nbformat": 4,
 "nbformat_minor": 2
}
