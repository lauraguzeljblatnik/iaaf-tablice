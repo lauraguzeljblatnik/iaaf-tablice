{
 "cells": [
  {
   "cell_type": "markdown",
   "metadata": {},
   "source": [
    "## IAAF tablice\n",
    "\n",
    "_Projekt pri predmetu Programiranje 1_\n",
    "\n",
    "S spletne strani https://www.iaaf.org/records/all-time-toplists/middlelong/5000-metres/outdoor/women/senior sem zajela podatke o najboljših rezultatih žensk na 5000m med letoma 2001 in 2017. \n",
    "Podatki obsegajo: rank, ki ga je zasedla tekmovalka v tistem letu, datum teka, ime in priimek, datum rojstva, prizorišče teka in narodnost tekmovalke. \n",
    "\n",
    "\n",
    "Rezultate bom tekom naloge analizirala. "
   ]
  },
  {
   "cell_type": "code",
   "execution_count": 1,
   "metadata": {
    "collapsed": true
   },
   "outputs": [],
   "source": [
    "import pandas as pd\n",
    "import matplotlib.pyplot as plt\n",
    "import matplotlib.dates as dates \n",
    "import matplotlib\n",
    "#ker analiza obsega delo s časi, naložimo še paketa za pretvarjanje nizov v časovne objekte\n",
    "import datetime \n",
    "import time\n",
    "\n",
    "%matplotlib inline\n",
    "\n",
    "tablice= pd.read_csv('lists.csv', encoding = \"utf-8\")\n",
    "\n",
    "#datume spremenimo v pravo obliko, da lahko kasneje dostopamo do njih\n",
    "#kjer daum rojstva ni popoln ga spremenimo v None\n",
    "#(tako ali tako nimajo vsi razulati datuma rojstva, tako da to ne bo vplivalo na točnost analize)\n",
    "tablice['DOB'] = pd.to_datetime(tablice['DOB'], format=\"%d %b %Y\",  errors='coerce')\n",
    "tablice['date'] = pd.to_datetime(tablice['date'], format=\"%d %b %Y\")\n",
    "\n",
    "pd.options.display.max_rows = 20"
   ]
  },
  {
   "cell_type": "markdown",
   "metadata": {},
   "source": [
    "Za lažjo predstavo najprej poglejmo, kako sploh izgledajo tablice."
   ]
  },
  {
   "cell_type": "code",
   "execution_count": 2,
   "metadata": {},
   "outputs": [
    {
     "data": {
      "text/html": [
       "<div>\n",
       "<style>\n",
       "    .dataframe thead tr:only-child th {\n",
       "        text-align: right;\n",
       "    }\n",
       "\n",
       "    .dataframe thead th {\n",
       "        text-align: left;\n",
       "    }\n",
       "\n",
       "    .dataframe tbody tr th {\n",
       "        vertical-align: top;\n",
       "    }\n",
       "</style>\n",
       "<table border=\"1\" class=\"dataframe\">\n",
       "  <thead>\n",
       "    <tr style=\"text-align: right;\">\n",
       "      <th></th>\n",
       "      <th>rank</th>\n",
       "      <th>time</th>\n",
       "      <th>date</th>\n",
       "      <th>name</th>\n",
       "      <th>position</th>\n",
       "      <th>DOB</th>\n",
       "      <th>venue</th>\n",
       "      <th>nationality</th>\n",
       "    </tr>\n",
       "  </thead>\n",
       "  <tbody>\n",
       "    <tr>\n",
       "      <th>3059</th>\n",
       "      <td>1</td>\n",
       "      <td>14:11.15</td>\n",
       "      <td>2008-06-06</td>\n",
       "      <td>Tirunesh DIBABA</td>\n",
       "      <td>1</td>\n",
       "      <td>1985-06-01</td>\n",
       "      <td>Oslo (NOR)</td>\n",
       "      <td>ETH</td>\n",
       "    </tr>\n",
       "    <tr>\n",
       "      <th>15471</th>\n",
       "      <td>1</td>\n",
       "      <td>14:12.59</td>\n",
       "      <td>2016-06-02</td>\n",
       "      <td>Almaz AYANA</td>\n",
       "      <td>1</td>\n",
       "      <td>1991-11-21</td>\n",
       "      <td>Roma (ITA)</td>\n",
       "      <td>ETH</td>\n",
       "    </tr>\n",
       "    <tr>\n",
       "      <th>3060</th>\n",
       "      <td>2</td>\n",
       "      <td>14:12.88</td>\n",
       "      <td>2008-07-22</td>\n",
       "      <td>Meseret DEFAR</td>\n",
       "      <td>1</td>\n",
       "      <td>1983-11-19</td>\n",
       "      <td>Stockholm (SWE)</td>\n",
       "      <td>ETH</td>\n",
       "    </tr>\n",
       "    <tr>\n",
       "      <th>13496</th>\n",
       "      <td>1</td>\n",
       "      <td>14:14.32</td>\n",
       "      <td>2015-05-17</td>\n",
       "      <td>Almaz AYANA</td>\n",
       "      <td>1</td>\n",
       "      <td>1991-11-21</td>\n",
       "      <td>Shanghai (CHN)</td>\n",
       "      <td>ETH</td>\n",
       "    </tr>\n",
       "    <tr>\n",
       "      <th>13497</th>\n",
       "      <td>2</td>\n",
       "      <td>14:15.41</td>\n",
       "      <td>2015-07-04</td>\n",
       "      <td>Genzebe DIBABA</td>\n",
       "      <td>1</td>\n",
       "      <td>1991-02-08</td>\n",
       "      <td>Paris (FRA)</td>\n",
       "      <td>ETH</td>\n",
       "    </tr>\n",
       "    <tr>\n",
       "      <th>2571</th>\n",
       "      <td>1</td>\n",
       "      <td>14:16.63</td>\n",
       "      <td>2007-06-15</td>\n",
       "      <td>Meseret DEFAR</td>\n",
       "      <td>1</td>\n",
       "      <td>1983-11-19</td>\n",
       "      <td>Oslo (NOR)</td>\n",
       "      <td>ETH</td>\n",
       "    </tr>\n",
       "    <tr>\n",
       "      <th>17458</th>\n",
       "      <td>1</td>\n",
       "      <td>14:18.37</td>\n",
       "      <td>2017-06-08</td>\n",
       "      <td>Hellen OBIRI</td>\n",
       "      <td>1</td>\n",
       "      <td>1989-12-13</td>\n",
       "      <td>Roma (ITA)</td>\n",
       "      <td>KEN</td>\n",
       "    </tr>\n",
       "    <tr>\n",
       "      <th>6192</th>\n",
       "      <td>1</td>\n",
       "      <td>14:20.87</td>\n",
       "      <td>2011-07-29</td>\n",
       "      <td>Vivian Jepkemoi CHERUIYOT</td>\n",
       "      <td>1</td>\n",
       "      <td>1983-09-11</td>\n",
       "      <td>Stockholm (SWE)</td>\n",
       "      <td>KEN</td>\n",
       "    </tr>\n",
       "    <tr>\n",
       "      <th>2572</th>\n",
       "      <td>2</td>\n",
       "      <td>14:22.51</td>\n",
       "      <td>2007-06-15</td>\n",
       "      <td>Vivian Jepkemoi CHERUIYOT</td>\n",
       "      <td>2</td>\n",
       "      <td>1983-09-11</td>\n",
       "      <td>Oslo (NOR)</td>\n",
       "      <td>KEN</td>\n",
       "    </tr>\n",
       "    <tr>\n",
       "      <th>9725</th>\n",
       "      <td>1</td>\n",
       "      <td>14:23.68</td>\n",
       "      <td>2013-07-06</td>\n",
       "      <td>Tirunesh DIBABA</td>\n",
       "      <td>1</td>\n",
       "      <td>1985-06-01</td>\n",
       "      <td>Paris (FRA)</td>\n",
       "      <td>ETH</td>\n",
       "    </tr>\n",
       "  </tbody>\n",
       "</table>\n",
       "</div>"
      ],
      "text/plain": [
       "       rank      time       date                       name position  \\\n",
       "3059      1  14:11.15 2008-06-06            Tirunesh DIBABA        1   \n",
       "15471     1  14:12.59 2016-06-02                Almaz AYANA        1   \n",
       "3060      2  14:12.88 2008-07-22              Meseret DEFAR        1   \n",
       "13496     1  14:14.32 2015-05-17                Almaz AYANA        1   \n",
       "13497     2  14:15.41 2015-07-04             Genzebe DIBABA        1   \n",
       "2571      1  14:16.63 2007-06-15              Meseret DEFAR        1   \n",
       "17458     1  14:18.37 2017-06-08               Hellen OBIRI        1   \n",
       "6192      1  14:20.87 2011-07-29  Vivian Jepkemoi CHERUIYOT        1   \n",
       "2572      2  14:22.51 2007-06-15  Vivian Jepkemoi CHERUIYOT        2   \n",
       "9725      1  14:23.68 2013-07-06            Tirunesh DIBABA        1   \n",
       "\n",
       "             DOB            venue nationality  \n",
       "3059  1985-06-01       Oslo (NOR)         ETH  \n",
       "15471 1991-11-21       Roma (ITA)         ETH  \n",
       "3060  1983-11-19  Stockholm (SWE)         ETH  \n",
       "13496 1991-11-21   Shanghai (CHN)         ETH  \n",
       "13497 1991-02-08      Paris (FRA)         ETH  \n",
       "2571  1983-11-19       Oslo (NOR)         ETH  \n",
       "17458 1989-12-13       Roma (ITA)         KEN  \n",
       "6192  1983-09-11  Stockholm (SWE)         KEN  \n",
       "2572  1983-09-11       Oslo (NOR)         KEN  \n",
       "9725  1985-06-01      Paris (FRA)         ETH  "
      ]
     },
     "execution_count": 2,
     "metadata": {},
     "output_type": "execute_result"
    }
   ],
   "source": [
    "tablice.sort_values('time').head(10)"
   ]
  },
  {
   "cell_type": "markdown",
   "metadata": {},
   "source": [
    "Najhitrejši čas je trenutno veljaven svetovni rekord."
   ]
  },
  {
   "cell_type": "code",
   "execution_count": 3,
   "metadata": {},
   "outputs": [
    {
     "data": {
      "text/plain": [
       "16:09.00    10\n",
       "15:56.00     9\n",
       "17:18.07     8\n",
       "17:19.08     8\n",
       "17:24.34     8\n",
       "16:03.80     8\n",
       "16:19.58     8\n",
       "17:18.63     8\n",
       "15:57.96     7\n",
       "16:33.62     7\n",
       "Name: time, dtype: int64"
      ]
     },
     "execution_count": 3,
     "metadata": {},
     "output_type": "execute_result"
    }
   ],
   "source": [
    "casi = tablice['time'].value_counts()\n",
    "casi[:10]"
   ]
  },
  {
   "cell_type": "markdown",
   "metadata": {},
   "source": [
    "Malo za šalo, malo zares, med vsemi časi se je največkrat zgodilo, da se je ura ustavila na natanko 16:09. "
   ]
  },
  {
   "cell_type": "markdown",
   "metadata": {},
   "source": [
    "Rank 1 pomeni vodilni rezultat(world lead) v izbranem letu. Poglejmo, kako se je ta rezultat spreminjal skozi leta in katere atletinje so ga dosegle."
   ]
  },
  {
   "cell_type": "code",
   "execution_count": 4,
   "metadata": {},
   "outputs": [
    {
     "data": {
      "text/html": [
       "<div>\n",
       "<style>\n",
       "    .dataframe thead tr:only-child th {\n",
       "        text-align: right;\n",
       "    }\n",
       "\n",
       "    .dataframe thead th {\n",
       "        text-align: left;\n",
       "    }\n",
       "\n",
       "    .dataframe tbody tr th {\n",
       "        vertical-align: top;\n",
       "    }\n",
       "</style>\n",
       "<table border=\"1\" class=\"dataframe\">\n",
       "  <thead>\n",
       "    <tr style=\"text-align: right;\">\n",
       "      <th></th>\n",
       "      <th>rank</th>\n",
       "      <th>time</th>\n",
       "      <th>date</th>\n",
       "      <th>name</th>\n",
       "      <th>position</th>\n",
       "      <th>DOB</th>\n",
       "      <th>venue</th>\n",
       "      <th>nationality</th>\n",
       "    </tr>\n",
       "  </thead>\n",
       "  <tbody>\n",
       "    <tr>\n",
       "      <th>0</th>\n",
       "      <td>1</td>\n",
       "      <td>14:29.32</td>\n",
       "      <td>2001-08-31</td>\n",
       "      <td>Olga YEGOROVA</td>\n",
       "      <td>1</td>\n",
       "      <td>1972-03-28</td>\n",
       "      <td>Berlin (GER)</td>\n",
       "      <td>RUS</td>\n",
       "    </tr>\n",
       "    <tr>\n",
       "      <th>372</th>\n",
       "      <td>1</td>\n",
       "      <td>14:31.42</td>\n",
       "      <td>2002-07-28</td>\n",
       "      <td>Paula RADCLIFFE</td>\n",
       "      <td>1</td>\n",
       "      <td>1973-12-17</td>\n",
       "      <td>Manchester (GBR)</td>\n",
       "      <td>GBR</td>\n",
       "    </tr>\n",
       "    <tr>\n",
       "      <th>800</th>\n",
       "      <td>1</td>\n",
       "      <td>14:29.32</td>\n",
       "      <td>2003-06-27</td>\n",
       "      <td>Berhane ADERE</td>\n",
       "      <td>1</td>\n",
       "      <td>1973-11-23</td>\n",
       "      <td>Oslo (NOR)</td>\n",
       "      <td>ETH</td>\n",
       "    </tr>\n",
       "    <tr>\n",
       "      <th>1208</th>\n",
       "      <td>1</td>\n",
       "      <td>14:24.68</td>\n",
       "      <td>2004-06-11</td>\n",
       "      <td>Elvan ABEYLEGESSE</td>\n",
       "      <td>1</td>\n",
       "      <td>1982-09-11</td>\n",
       "      <td>Bergen (NOR)</td>\n",
       "      <td>TUR</td>\n",
       "    </tr>\n",
       "    <tr>\n",
       "      <th>1676</th>\n",
       "      <td>1</td>\n",
       "      <td>14:28.98</td>\n",
       "      <td>2005-08-26</td>\n",
       "      <td>Meseret DEFAR</td>\n",
       "      <td>1</td>\n",
       "      <td>1983-11-19</td>\n",
       "      <td>Bruxelles (BEL)</td>\n",
       "      <td>ETH</td>\n",
       "    </tr>\n",
       "    <tr>\n",
       "      <th>2108</th>\n",
       "      <td>1</td>\n",
       "      <td>14:24.53</td>\n",
       "      <td>2006-06-03</td>\n",
       "      <td>Meseret DEFAR</td>\n",
       "      <td>1</td>\n",
       "      <td>1983-11-19</td>\n",
       "      <td>New York (USA)</td>\n",
       "      <td>ETH</td>\n",
       "    </tr>\n",
       "    <tr>\n",
       "      <th>2571</th>\n",
       "      <td>1</td>\n",
       "      <td>14:16.63</td>\n",
       "      <td>2007-06-15</td>\n",
       "      <td>Meseret DEFAR</td>\n",
       "      <td>1</td>\n",
       "      <td>1983-11-19</td>\n",
       "      <td>Oslo (NOR)</td>\n",
       "      <td>ETH</td>\n",
       "    </tr>\n",
       "    <tr>\n",
       "      <th>3059</th>\n",
       "      <td>1</td>\n",
       "      <td>14:11.15</td>\n",
       "      <td>2008-06-06</td>\n",
       "      <td>Tirunesh DIBABA</td>\n",
       "      <td>1</td>\n",
       "      <td>1985-06-01</td>\n",
       "      <td>Oslo (NOR)</td>\n",
       "      <td>ETH</td>\n",
       "    </tr>\n",
       "    <tr>\n",
       "      <th>3509</th>\n",
       "      <td>1</td>\n",
       "      <td>14:33.65</td>\n",
       "      <td>2009-07-25</td>\n",
       "      <td>Tirunesh DIBABA</td>\n",
       "      <td>1</td>\n",
       "      <td>1985-06-01</td>\n",
       "      <td>London (GBR)</td>\n",
       "      <td>ETH</td>\n",
       "    </tr>\n",
       "    <tr>\n",
       "      <th>4672</th>\n",
       "      <td>1</td>\n",
       "      <td>14:27.41</td>\n",
       "      <td>2010-07-16</td>\n",
       "      <td>Vivian Jepkemoi CHERUIYOT</td>\n",
       "      <td>1</td>\n",
       "      <td>1983-09-11</td>\n",
       "      <td>Paris-St-Denis (FRA)</td>\n",
       "      <td>KEN</td>\n",
       "    </tr>\n",
       "    <tr>\n",
       "      <th>6192</th>\n",
       "      <td>1</td>\n",
       "      <td>14:20.87</td>\n",
       "      <td>2011-07-29</td>\n",
       "      <td>Vivian Jepkemoi CHERUIYOT</td>\n",
       "      <td>1</td>\n",
       "      <td>1983-09-11</td>\n",
       "      <td>Stockholm (SWE)</td>\n",
       "      <td>KEN</td>\n",
       "    </tr>\n",
       "    <tr>\n",
       "      <th>7890</th>\n",
       "      <td>1</td>\n",
       "      <td>14:35.62</td>\n",
       "      <td>2012-05-31</td>\n",
       "      <td>Vivian Jepkemoi CHERUIYOT</td>\n",
       "      <td>1</td>\n",
       "      <td>1983-09-11</td>\n",
       "      <td>Roma (ITA)</td>\n",
       "      <td>KEN</td>\n",
       "    </tr>\n",
       "    <tr>\n",
       "      <th>9725</th>\n",
       "      <td>1</td>\n",
       "      <td>14:23.68</td>\n",
       "      <td>2013-07-06</td>\n",
       "      <td>Tirunesh DIBABA</td>\n",
       "      <td>1</td>\n",
       "      <td>1985-06-01</td>\n",
       "      <td>Paris (FRA)</td>\n",
       "      <td>ETH</td>\n",
       "    </tr>\n",
       "    <tr>\n",
       "      <th>11537</th>\n",
       "      <td>1</td>\n",
       "      <td>14:28.88</td>\n",
       "      <td>2014-07-18</td>\n",
       "      <td>Genzebe DIBABA</td>\n",
       "      <td>1</td>\n",
       "      <td>1991-02-08</td>\n",
       "      <td>Monaco (MON)</td>\n",
       "      <td>ETH</td>\n",
       "    </tr>\n",
       "    <tr>\n",
       "      <th>13496</th>\n",
       "      <td>1</td>\n",
       "      <td>14:14.32</td>\n",
       "      <td>2015-05-17</td>\n",
       "      <td>Almaz AYANA</td>\n",
       "      <td>1</td>\n",
       "      <td>1991-11-21</td>\n",
       "      <td>Shanghai (CHN)</td>\n",
       "      <td>ETH</td>\n",
       "    </tr>\n",
       "    <tr>\n",
       "      <th>15471</th>\n",
       "      <td>1</td>\n",
       "      <td>14:12.59</td>\n",
       "      <td>2016-06-02</td>\n",
       "      <td>Almaz AYANA</td>\n",
       "      <td>1</td>\n",
       "      <td>1991-11-21</td>\n",
       "      <td>Roma (ITA)</td>\n",
       "      <td>ETH</td>\n",
       "    </tr>\n",
       "    <tr>\n",
       "      <th>17458</th>\n",
       "      <td>1</td>\n",
       "      <td>14:18.37</td>\n",
       "      <td>2017-06-08</td>\n",
       "      <td>Hellen OBIRI</td>\n",
       "      <td>1</td>\n",
       "      <td>1989-12-13</td>\n",
       "      <td>Roma (ITA)</td>\n",
       "      <td>KEN</td>\n",
       "    </tr>\n",
       "  </tbody>\n",
       "</table>\n",
       "</div>"
      ],
      "text/plain": [
       "       rank      time       date                       name position  \\\n",
       "0         1  14:29.32 2001-08-31              Olga YEGOROVA        1   \n",
       "372       1  14:31.42 2002-07-28            Paula RADCLIFFE        1   \n",
       "800       1  14:29.32 2003-06-27              Berhane ADERE        1   \n",
       "1208      1  14:24.68 2004-06-11          Elvan ABEYLEGESSE        1   \n",
       "1676      1  14:28.98 2005-08-26              Meseret DEFAR        1   \n",
       "2108      1  14:24.53 2006-06-03              Meseret DEFAR        1   \n",
       "2571      1  14:16.63 2007-06-15              Meseret DEFAR        1   \n",
       "3059      1  14:11.15 2008-06-06            Tirunesh DIBABA        1   \n",
       "3509      1  14:33.65 2009-07-25            Tirunesh DIBABA        1   \n",
       "4672      1  14:27.41 2010-07-16  Vivian Jepkemoi CHERUIYOT        1   \n",
       "6192      1  14:20.87 2011-07-29  Vivian Jepkemoi CHERUIYOT        1   \n",
       "7890      1  14:35.62 2012-05-31  Vivian Jepkemoi CHERUIYOT        1   \n",
       "9725      1  14:23.68 2013-07-06            Tirunesh DIBABA        1   \n",
       "11537     1  14:28.88 2014-07-18             Genzebe DIBABA        1   \n",
       "13496     1  14:14.32 2015-05-17                Almaz AYANA        1   \n",
       "15471     1  14:12.59 2016-06-02                Almaz AYANA        1   \n",
       "17458     1  14:18.37 2017-06-08               Hellen OBIRI        1   \n",
       "\n",
       "             DOB                 venue nationality  \n",
       "0     1972-03-28          Berlin (GER)         RUS  \n",
       "372   1973-12-17      Manchester (GBR)         GBR  \n",
       "800   1973-11-23            Oslo (NOR)         ETH  \n",
       "1208  1982-09-11          Bergen (NOR)         TUR  \n",
       "1676  1983-11-19       Bruxelles (BEL)         ETH  \n",
       "2108  1983-11-19        New York (USA)         ETH  \n",
       "2571  1983-11-19            Oslo (NOR)         ETH  \n",
       "3059  1985-06-01            Oslo (NOR)         ETH  \n",
       "3509  1985-06-01          London (GBR)         ETH  \n",
       "4672  1983-09-11  Paris-St-Denis (FRA)         KEN  \n",
       "6192  1983-09-11       Stockholm (SWE)         KEN  \n",
       "7890  1983-09-11            Roma (ITA)         KEN  \n",
       "9725  1985-06-01           Paris (FRA)         ETH  \n",
       "11537 1991-02-08          Monaco (MON)         ETH  \n",
       "13496 1991-11-21        Shanghai (CHN)         ETH  \n",
       "15471 1991-11-21            Roma (ITA)         ETH  \n",
       "17458 1989-12-13            Roma (ITA)         KEN  "
      ]
     },
     "execution_count": 4,
     "metadata": {},
     "output_type": "execute_result"
    }
   ],
   "source": [
    "tablice[tablice['rank'] == 1]"
   ]
  },
  {
   "cell_type": "markdown",
   "metadata": {},
   "source": [
    "Opazimo, da se pogosto zgodi, da se atletinje na vrh tablic uvrščajo nekaj let zaporedoma.\n",
    "\n",
    "Kdo pa so atletinje, ki so se ob koncu leta največkrat znašle na vrhu?"
   ]
  },
  {
   "cell_type": "code",
   "execution_count": 21,
   "metadata": {},
   "outputs": [
    {
     "data": {
      "text/plain": [
       "name\n",
       "Vivian Jepkemoi CHERUIYOT    3\n",
       "Tirunesh DIBABA              3\n",
       "Meseret DEFAR                3\n",
       "Almaz AYANA                  2\n",
       "Paula RADCLIFFE              1\n",
       "Olga YEGOROVA                1\n",
       "Hellen OBIRI                 1\n",
       "Genzebe DIBABA               1\n",
       "Elvan ABEYLEGESSE            1\n",
       "Berhane ADERE                1\n",
       "dtype: int64"
      ]
     },
     "execution_count": 21,
     "metadata": {},
     "output_type": "execute_result"
    }
   ],
   "source": [
    "tablice[tablice['rank'] == 1].groupby('name').size().sort_values(ascending = False)"
   ]
  },
  {
   "cell_type": "markdown",
   "metadata": {},
   "source": [
    "V zadnjih 17 letih je trem ateltinjam uspelo, da so kar trikrat odtekle vodilni čas tistega leta.\n",
    "\n",
    "Poglejmo si še, kako se je vodilni čas spreminjal skozi leta."
   ]
  },
  {
   "cell_type": "code",
   "execution_count": 5,
   "metadata": {},
   "outputs": [
    {
     "data": {
      "image/png": "[encoded data removed]",
      "text/plain": [
       "<matplotlib.figure.Figure at 0x5c99828>"
      ]
     },
     "metadata": {},
     "output_type": "display_data"
    }
   ],
   "source": [
    "world_lead = tablice[tablice['rank'] == 1]\n",
    "datum = world_lead['date']\n",
    "leto = datum.dt.year\n",
    "y = world_lead['time']\n",
    "time_format = '%M:%S.%f'\n",
    "time = [datetime.datetime.strptime(i, time_format) for i in y]\n",
    "plt.title('Najboljši rezultat leta')\n",
    "plt.xlabel('leto')\n",
    "plt.ylabel('čas[s]')\n",
    "plt.plot_date(leto, time, fmt = '-', xdate=False, ydate=True)\n",
    "plt.show()"
   ]
  },
  {
   "cell_type": "markdown",
   "metadata": {},
   "source": [
    "Z izjemo svetovnega rekorda leta 2008 in pa zadnjih nekaj let, ko so se atletinje nekajkrat nevarno približale rekordu, opazimo, da so vodilni časi dokaj konstantni, saj se jih večina giblje med 14:20 in 14:30. Kakšnega trenenda padanja vodilnih rezultatov tako, ni mogoče opaziti.\n",
    "\n",
    "Analizo nadaljujmo s krajem tekmovanja in narodnostjo tekmovalk."
   ]
  },
  {
   "cell_type": "code",
   "execution_count": 6,
   "metadata": {},
   "outputs": [
    {
     "data": {
      "image/png": "[encoded data removed]",
      "text/plain": [
       "<matplotlib.figure.Figure at 0xa94d1d0>"
      ]
     },
     "metadata": {},
     "output_type": "display_data"
    }
   ],
   "source": [
    "deseterica = tablice[tablice['rank'] <= 10]\n",
    "stoterica = tablice[tablice['rank'] <= 100]\n",
    "\n",
    "plt.figure()\n",
    "stoterica['venue'].value_counts()[:10].plot(kind='bar', title = \"top 100\")\n",
    "\n",
    "plt.show()"
   ]
  },
  {
   "cell_type": "markdown",
   "metadata": {},
   "source": [
    "Najboljše uvrstitve atletinje dosegajo na stadionu Palo Alto v USA, veliko dobrih rezultatov, je bilo doseženih tudi v Rimu in Oslu. Torej, če se želite na lesticah uvrstiti med stoterico najboljših na 5000m je zmagovalni recept tek na enem od zgornjih stadionov."
   ]
  },
  {
   "cell_type": "code",
   "execution_count": 7,
   "metadata": {},
   "outputs": [
    {
     "data": {
      "text/html": [
       "<div>\n",
       "<style>\n",
       "    .dataframe thead tr:only-child th {\n",
       "        text-align: right;\n",
       "    }\n",
       "\n",
       "    .dataframe thead th {\n",
       "        text-align: left;\n",
       "    }\n",
       "\n",
       "    .dataframe tbody tr th {\n",
       "        vertical-align: top;\n",
       "    }\n",
       "</style>\n",
       "<table border=\"1\" class=\"dataframe\">\n",
       "  <thead>\n",
       "    <tr style=\"text-align: right;\">\n",
       "      <th></th>\n",
       "      <th>rank</th>\n",
       "      <th>time</th>\n",
       "      <th>date</th>\n",
       "      <th>name</th>\n",
       "      <th>position</th>\n",
       "      <th>DOB</th>\n",
       "      <th>venue</th>\n",
       "      <th>nationality</th>\n",
       "    </tr>\n",
       "  </thead>\n",
       "  <tbody>\n",
       "    <tr>\n",
       "      <th>63</th>\n",
       "      <td>64</td>\n",
       "      <td>15:23.46</td>\n",
       "      <td>2001-07-22</td>\n",
       "      <td>Helena JAVORNIK</td>\n",
       "      <td>13</td>\n",
       "      <td>1966-03-26</td>\n",
       "      <td>London (GBR)</td>\n",
       "      <td>SLO</td>\n",
       "    </tr>\n",
       "    <tr>\n",
       "      <th>449</th>\n",
       "      <td>78</td>\n",
       "      <td>15:32.90</td>\n",
       "      <td>2002-06-23</td>\n",
       "      <td>Helena JAVORNIK</td>\n",
       "      <td>3</td>\n",
       "      <td>1966-03-26</td>\n",
       "      <td>Sevilla (ESP)</td>\n",
       "      <td>SLO</td>\n",
       "    </tr>\n",
       "    <tr>\n",
       "      <th>909</th>\n",
       "      <td>110</td>\n",
       "      <td>15:36.81</td>\n",
       "      <td>2003-06-01</td>\n",
       "      <td>Helena JAVORNIK</td>\n",
       "      <td>7</td>\n",
       "      <td>1966-03-26</td>\n",
       "      <td>Hengelo (NED)</td>\n",
       "      <td>SLO</td>\n",
       "    </tr>\n",
       "    <tr>\n",
       "      <th>5184</th>\n",
       "      <td>1312</td>\n",
       "      <td>17:13.78</td>\n",
       "      <td>2010-06-20</td>\n",
       "      <td>Lucija KRKOC</td>\n",
       "      <td>11</td>\n",
       "      <td>1988-04-09</td>\n",
       "      <td>Budapest (HUN)</td>\n",
       "      <td>SLO</td>\n",
       "    </tr>\n",
       "    <tr>\n",
       "      <th>8594</th>\n",
       "      <td>1504</td>\n",
       "      <td>17:13.83</td>\n",
       "      <td>2012-07-07</td>\n",
       "      <td>Žana JEREB</td>\n",
       "      <td>1</td>\n",
       "      <td>1989-12-25</td>\n",
       "      <td>Koper (SLO)</td>\n",
       "      <td>SLO</td>\n",
       "    </tr>\n",
       "    <tr>\n",
       "      <th>11438</th>\n",
       "      <td>802</td>\n",
       "      <td>16:35.89</td>\n",
       "      <td>2013-06-23</td>\n",
       "      <td>Maruša MIŠMAŠ</td>\n",
       "      <td>4</td>\n",
       "      <td>1994-10-24</td>\n",
       "      <td>Kaunas (LTU)</td>\n",
       "      <td>SLO</td>\n",
       "    </tr>\n",
       "    <tr>\n",
       "      <th>12675</th>\n",
       "      <td>139</td>\n",
       "      <td>15:40.41</td>\n",
       "      <td>2014-06-22</td>\n",
       "      <td>Sonja ROMAN</td>\n",
       "      <td>4</td>\n",
       "      <td>1979-03-11</td>\n",
       "      <td>Tallinn (EST)</td>\n",
       "      <td>SLO</td>\n",
       "    </tr>\n",
       "    <tr>\n",
       "      <th>17849</th>\n",
       "      <td>1191</td>\n",
       "      <td>16:51.80</td>\n",
       "      <td>2017-06-25</td>\n",
       "      <td>Sonja ROMAN</td>\n",
       "      <td>5</td>\n",
       "      <td>1979-03-11</td>\n",
       "      <td>Tel Aviv (ISR)</td>\n",
       "      <td>SLO</td>\n",
       "    </tr>\n",
       "    <tr>\n",
       "      <th>18800</th>\n",
       "      <td>2043</td>\n",
       "      <td>17:26.13</td>\n",
       "      <td>2017-07-01</td>\n",
       "      <td>Laura GUZELJ BLATNIK</td>\n",
       "      <td>1</td>\n",
       "      <td>1997-08-28</td>\n",
       "      <td>Slovenj Gradec (SLO)</td>\n",
       "      <td>SLO</td>\n",
       "    </tr>\n",
       "    <tr>\n",
       "      <th>19547</th>\n",
       "      <td>843</td>\n",
       "      <td>16:32.81</td>\n",
       "      <td>2017-09-09</td>\n",
       "      <td>Maruša MIŠMAŠ</td>\n",
       "      <td>1</td>\n",
       "      <td>1994-10-24</td>\n",
       "      <td>Nova Gorica (SLO)</td>\n",
       "      <td>SLO</td>\n",
       "    </tr>\n",
       "  </tbody>\n",
       "</table>\n",
       "</div>"
      ],
      "text/plain": [
       "       rank      time       date                  name position        DOB  \\\n",
       "63       64  15:23.46 2001-07-22       Helena JAVORNIK       13 1966-03-26   \n",
       "449      78  15:32.90 2002-06-23       Helena JAVORNIK        3 1966-03-26   \n",
       "909     110  15:36.81 2003-06-01       Helena JAVORNIK        7 1966-03-26   \n",
       "5184   1312  17:13.78 2010-06-20          Lucija KRKOC       11 1988-04-09   \n",
       "8594   1504  17:13.83 2012-07-07            Žana JEREB        1 1989-12-25   \n",
       "11438   802  16:35.89 2013-06-23         Maruša MIŠMAŠ        4 1994-10-24   \n",
       "12675   139  15:40.41 2014-06-22           Sonja ROMAN        4 1979-03-11   \n",
       "17849  1191  16:51.80 2017-06-25           Sonja ROMAN        5 1979-03-11   \n",
       "18800  2043  17:26.13 2017-07-01  Laura GUZELJ BLATNIK        1 1997-08-28   \n",
       "19547   843  16:32.81 2017-09-09         Maruša MIŠMAŠ        1 1994-10-24   \n",
       "\n",
       "                      venue nationality  \n",
       "63             London (GBR)         SLO  \n",
       "449           Sevilla (ESP)         SLO  \n",
       "909           Hengelo (NED)         SLO  \n",
       "5184         Budapest (HUN)         SLO  \n",
       "8594            Koper (SLO)         SLO  \n",
       "11438          Kaunas (LTU)         SLO  \n",
       "12675         Tallinn (EST)         SLO  \n",
       "17849        Tel Aviv (ISR)         SLO  \n",
       "18800  Slovenj Gradec (SLO)         SLO  \n",
       "19547     Nova Gorica (SLO)         SLO  "
      ]
     },
     "execution_count": 7,
     "metadata": {},
     "output_type": "execute_result"
    }
   ],
   "source": [
    "tablice[tablice['nationality']=='SLO']"
   ]
  },
  {
   "cell_type": "markdown",
   "metadata": {},
   "source": [
    "Kljub majhnosti Slovenije, so se tudi slovenske atletinje v zadnjih 18 letih znašle med najboljšimi, kot najboljšo slovensko dolgoprogašico bi veljalo izpostaviti Heleno Javornik. "
   ]
  },
  {
   "cell_type": "code",
   "execution_count": 8,
   "metadata": {},
   "outputs": [
    {
     "data": {
      "image/png": "[encoded data removed]",
      "text/plain": [
       "<matplotlib.figure.Figure at 0x5c991d0>"
      ]
     },
     "metadata": {},
     "output_type": "display_data"
    }
   ],
   "source": [
    "plt.figure(figsize=(10,4))\n",
    "plt.subplot(121)\n",
    "deseterica['nationality'].value_counts()[:10].plot(kind='bar', title = \"top 10\" )\n",
    "plt.subplot(122)\n",
    "stoterica['nationality'].value_counts()[:10].plot(kind='bar', title = \"top 100\" )\n",
    "\n",
    "plt.tight_layout()"
   ]
  },
  {
   "cell_type": "markdown",
   "metadata": {},
   "source": [
    "Zanimivo je, da so se med deseterico najboljših največkrat uvrstile etiopijske tekačice, medtem ko so se v stoterici največkrat znašle Kenijke. Komu bi torej lahko pripisali zmago v etiopijsko-kenijski tekaški vojni?\n",
    "\n",
    "Prav tako je presenetljiv podatek, da se američanke med deseterico uvrstijo dokaj redko, medetem ko se med 100 najboljšimi atletinjami znajdejo veliko bolj pogosto."
   ]
  },
  {
   "cell_type": "code",
   "execution_count": 9,
   "metadata": {},
   "outputs": [
    {
     "data": {
      "text/plain": [
       "nationality\n",
       "ETH    00:15:20.448306\n",
       "UAE    00:15:41.830909\n",
       "BRN    00:15:42.198864\n",
       "TAN    00:15:47.446087\n",
       "ZAM    00:15:47.580000\n",
       "KEN    00:15:57.505663\n",
       "JPN    00:16:05.343172\n",
       "AZE    00:16:06.511000\n",
       "RUS    00:16:06.890161\n",
       "ALB    00:16:06.940000\n",
       "ALG    00:16:07.530526\n",
       "ERI    00:16:10.995313\n",
       "TUR    00:16:13.215570\n",
       "SRB    00:16:13.838649\n",
       "MAR    00:16:14.917290\n",
       "POR    00:16:16.200464\n",
       "MDA    00:16:16.333750\n",
       "MAW    00:16:17.460000\n",
       "CHN    00:16:18.019001\n",
       "PLE    00:16:18.340000\n",
       "Name: sekunde, dtype: object"
      ]
     },
     "execution_count": 9,
     "metadata": {},
     "output_type": "execute_result"
    }
   ],
   "source": [
    "#trik, da čase pretvorimo v sekunde \n",
    "df = pd.DataFrame({'cas' : pd.to_datetime(tablice['time'], format=\"%M:%S.%f\"), 'razlika': datetime.datetime(1900,1,1,0,0,0)})\n",
    "\n",
    "df['sekunde'] = df['cas'] - df['razlika']\n",
    "df['sekunde'] = df['sekunde'].dt.total_seconds().astype(float)\n",
    "\n",
    "tablice['sekunde'] = df['sekunde']\n",
    "povprecje = tablice.groupby('nationality')['sekunde'].mean()\n",
    "\n",
    "povprecje['pov'] = pd.to_datetime(povprecje, unit='s').dt.time\n",
    "povprecje['pov'].sort_values().head(20)"
   ]
  },
  {
   "cell_type": "markdown",
   "metadata": {},
   "source": [
    "Analiza časov pove, da so Etiopijke med najhitrejšimi, tako je pošteno reči, da so etiopijske tekačice najbolj uspešne. \n",
    "\n",
    "Sedaj pa podrobjene analizirajmo čase zajetih rezultatov."
   ]
  },
  {
   "cell_type": "code",
   "execution_count": 10,
   "metadata": {},
   "outputs": [
    {
     "data": {
      "text/plain": [
       "'0:16:28.222802'"
      ]
     },
     "execution_count": 10,
     "metadata": {},
     "output_type": "execute_result"
    }
   ],
   "source": [
    "#trik, da sekunde pretvorimo v čase\n",
    "j = df['sekunde'].mean()\n",
    "str(datetime.timedelta(seconds=j))"
   ]
  },
  {
   "cell_type": "markdown",
   "metadata": {},
   "source": [
    "Vidimo torej, da povprečen čas vseh zajetih rezultatov na 5000m znaša 16:28.223s.\n",
    "\n",
    "(Opomba: Zgornja meja vseh zajetih reulatov je čas pod 17:30.00)"
   ]
  },
  {
   "cell_type": "code",
   "execution_count": 11,
   "metadata": {},
   "outputs": [
    {
     "data": {
      "text/plain": [
       "rank\n",
       "1     00:14:24.201176\n",
       "2     00:14:27.855294\n",
       "3     00:14:31.775882\n",
       "4     00:14:34.707059\n",
       "5     00:14:36.271667\n",
       "6     00:14:38.770625\n",
       "7     00:14:39.791765\n",
       "8     00:14:41.945294\n",
       "9     00:14:43.830588\n",
       "10    00:14:45.031176\n",
       "11    00:14:46.495556\n",
       "12    00:14:48.190625\n",
       "13    00:14:48.845882\n",
       "14    00:14:51.012353\n",
       "15    00:14:52.127059\n",
       "16    00:14:53.159412\n",
       "17    00:14:54.732941\n",
       "18    00:14:56.152941\n",
       "19    00:14:56.841176\n",
       "20    00:14:57.974706\n",
       "Name: sekunde, dtype: object"
      ]
     },
     "execution_count": 11,
     "metadata": {},
     "output_type": "execute_result"
    }
   ],
   "source": [
    "povprecje = tablice.groupby('rank')['sekunde'].mean()\n",
    "\n",
    "povprecje['pov'] = pd.to_datetime(povprecje, unit='s').dt.time\n",
    "povprecje['pov'].head(20)"
   ]
  },
  {
   "cell_type": "markdown",
   "metadata": {},
   "source": [
    "Zanimivo je videti, kako se povprečni čas spreminja glede na rank, ki ga je zasedla tekmovalka. Bistveno pa je, da mora tekmovalka v povprečju teči pod 15min, da se uvrsti med dvajsetrico najboljših.\n",
    "\n",
    "Vemo že, da je Genzebe Dibaba lastnica svetovnega rekorda na 5000m. Poglejmo si, kako se je njen čas spreminjal skozi leta."
   ]
  },
  {
   "cell_type": "code",
   "execution_count": 12,
   "metadata": {},
   "outputs": [
    {
     "data": {
      "image/png": "[encoded data removed]",
      "text/plain": [
       "<matplotlib.figure.Figure at 0x5c99940>"
      ]
     },
     "metadata": {},
     "output_type": "display_data"
    }
   ],
   "source": [
    "#poglejmo si razvoj rezultata aktualne svetovn prvakinje\n",
    "rekorderka = tablice[tablice['name'] =='Tirunesh DIBABA']\n",
    "datum = rekorderka['date']\n",
    "leto = datum.dt.year\n",
    "y = rekorderka['time']\n",
    "time_format = '%M:%S.%f'\n",
    "time = [datetime.datetime.strptime(i, time_format) for i in y]\n",
    "plt.title('Razvoj rezultata Genzebe Dibaba')\n",
    "plt.xlabel('leto')\n",
    "plt.ylabel('čas[s]')\n",
    "plt.plot_date(leto, time, fmt = '-', xdate=False, ydate=True)\n",
    "plt.show()\n"
   ]
  },
  {
   "cell_type": "markdown",
   "metadata": {
    "collapsed": true
   },
   "source": [
    "Iz grafa lahko razberemo, kako se je spreminjal rezultat aktualne svetovne prvakinje skozi leta.\n",
    "\n",
    "Kako pa je starost tekovalke odvisna od rezultata?"
   ]
  },
  {
   "cell_type": "code",
   "execution_count": 13,
   "metadata": {
    "scrolled": true
   },
   "outputs": [
    {
     "data": {
      "text/plain": [
       "(name    Katherine PAGANO\n",
       " time            17:15.50\n",
       " Name: 5203, dtype: object,\n",
       " relativedelta(years=+12, months=+11),\n",
       " name    Mackenzie CALDWELL\n",
       " time              16:27.96\n",
       " Name: 15341, dtype: object,\n",
       " relativedelta(years=+128, months=+10, days=+28))"
      ]
     },
     "execution_count": 13,
     "metadata": {},
     "output_type": "execute_result"
    }
   ],
   "source": [
    "#najmlajša in najstarejša atletinja\n",
    "from dateutil.relativedelta import relativedelta\n",
    "\n",
    "tek = tablice['date']\n",
    "rojstvo = tablice['DOB']\n",
    "razlika = tek - rojstvo\n",
    "starostmin = relativedelta(tablice.iloc[razlika.idxmin()]['date'],tablice.iloc[razlika.idxmin()]['DOB'])\n",
    "starostmax = relativedelta(tablice.iloc[razlika.idxmax()]['date'],tablice.iloc[razlika.idxmax()]['DOB'])\n",
    "\n",
    "(tablice.iloc[razlika.idxmin()][['name','time']], starostmin, \n",
    " tablice.iloc[razlika.idxmax()][['name','time']], starostmax)\n"
   ]
  },
  {
   "cell_type": "markdown",
   "metadata": {
    "collapsed": true
   },
   "source": [
    "Najmlajša atletinja, ki se je uspela uvrstiti na lestvico najbolših je Katherine Pagano. To ji je uspelo pri slabih trinajstih letih z odličnim rezultatom 17:15.50!\n",
    "\n",
    "Pri najstarejši atletinji pa gre očitno za napačen vnos rojstnega dne."
   ]
  },
  {
   "cell_type": "code",
   "execution_count": 14,
   "metadata": {},
   "outputs": [
    {
     "data": {
      "image/png": "[encoded data removed]",
      "text/plain": [
       "<matplotlib.figure.Figure at 0xa892ba8>"
      ]
     },
     "metadata": {},
     "output_type": "display_data"
    }
   ],
   "source": [
    "#rezultati glede na mesec rojstva\n",
    "\n",
    "plt.figure(figsize=(12,5))\n",
    "plt.subplot(121)\n",
    "plt.xlabel('mesec rojstva')\n",
    "tablice.DOB.dt.month.groupby(tablice.DOB.dt.month).size().plot(title = \"rojstni mesec\" )\n",
    "plt.subplot(122)\n",
    "plt.xlabel('mesec rojstva')\n",
    "stoterica.DOB.dt.month.groupby(stoterica.DOB.dt.month).size().plot(title = \"rojstni mesec top 100\")\n",
    "\n",
    "plt.tight_layout()"
   ]
  },
  {
   "cell_type": "markdown",
   "metadata": {},
   "source": [
    "Kljub temu, da pri obeh grafih prihaja do odstopanj je mogoče opaziti nekakšen trend v številu atletinj rojenih določenega meseca. Videti je, da se atletinje rojene aprila dokaj redko uvrstijo med najboljše, medtem ko imate precej večjo vrjetnost,da boste uspešni v teku na 5000m če ste rojeni junija ali pa decembra. "
   ]
  },
  {
   "cell_type": "code",
   "execution_count": 15,
   "metadata": {},
   "outputs": [
    {
     "data": {
      "image/png": "[encoded data removed]",
      "text/plain": [
       "<matplotlib.figure.Figure at 0xa08d908>"
      ]
     },
     "metadata": {},
     "output_type": "display_data"
    },
    {
     "name": "stdout",
     "output_type": "stream",
     "text": [
      "0        10748.0\n",
      "1         9760.0\n",
      "2        10119.0\n",
      "3         9558.0\n",
      "4         8604.0\n",
      "5        12523.0\n",
      "6         9373.0\n",
      "7         9123.0\n",
      "8         9083.0\n",
      "9         9046.0\n",
      "          ...   \n",
      "19594        NaN\n",
      "19595     8989.0\n",
      "19596     7342.0\n",
      "19597     7656.0\n",
      "19598     7039.0\n",
      "19599        NaN\n",
      "19600        NaN\n",
      "19601    11481.0\n",
      "19602     8264.0\n",
      "19603        NaN\n",
      "Length: 19604, dtype: float64 0        14:29.32\n",
      "1        14:31.69\n",
      "2        14:32.44\n",
      "3        14:39.22\n",
      "4        14:40.47\n",
      "5        14:45.86\n",
      "6        14:46.92\n",
      "7        14:48.97\n",
      "8        14:49.32\n",
      "9        14:51.58\n",
      "           ...   \n",
      "19594    16:36.08\n",
      "19595    16:36.12\n",
      "19596    16:36.30\n",
      "19597    16:36.33\n",
      "19598    16:36.36\n",
      "19599    16:36.36\n",
      "19600    16:36.40\n",
      "19601    16:36.41\n",
      "19602    16:36.46\n",
      "19603    16:36.46\n",
      "Name: time, Length: 19604, dtype: object\n"
     ]
    }
   ],
   "source": [
    "#starost v odvisnosti rezultata\n",
    "starost = (tablice['date'] - tablice['DOB'])\n",
    "starost = starost.apply(lambda x: x.days)\n",
    "y = tablice['time']\n",
    "time_format = '%M:%S.%f'\n",
    "time = [datetime.datetime.strptime(i, time_format) for i in y]\n",
    "plt.title('Rezultat v odvisnosti od starosti')\n",
    "plt.xlabel('starost')\n",
    "plt.ylabel('čas[s]')\n",
    "plt.plot_date(starost, time, marker=\"o\")\n",
    "plt.show()\n",
    "print(starost,y)"
   ]
  },
  {
   "cell_type": "code",
   "execution_count": null,
   "metadata": {
    "collapsed": true
   },
   "outputs": [],
   "source": []
  }
 ],
 "metadata": {
  "kernelspec": {
   "display_name": "Python 3",
   "language": "python",
   "name": "python3"
  },
  "language_info": {
   "codemirror_mode": {
    "name": "ipython",
    "version": 3
   },
   "file_extension": ".py",
   "mimetype": "text/x-python",
   "name": "python",
   "nbconvert_exporter": "python",
   "pygments_lexer": "ipython3",
   "version": "3.6.3"
  }
 },
 "nbformat": 4,
 "nbformat_minor": 2
}
